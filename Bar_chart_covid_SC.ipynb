{
  "nbformat": 4,
  "nbformat_minor": 0,
  "metadata": {
    "colab": {
      "name": "Bar_chart_covid_SC.ipynb",
      "provenance": [],
      "collapsed_sections": [],
      "authorship_tag": "ABX9TyNMVQBcrCBGqImhmuI/L4NT",
      "include_colab_link": true
    },
    "kernelspec": {
      "name": "python3",
      "display_name": "Python 3"
    },
    "language_info": {
      "name": "python"
    }
  },
  "cells": [
    {
      "cell_type": "markdown",
      "metadata": {
        "id": "view-in-github",
        "colab_type": "text"
      },
      "source": [
        "<a href=\"https://colab.research.google.com/github/dorissuzukiesmerio/Data_viz_python/blob/main/Bar_chart_covid_SC.ipynb\" target=\"_parent\"><img src=\"https://colab.research.google.com/assets/colab-badge.svg\" alt=\"Open In Colab\"/></a>"
      ]
    },
    {
      "cell_type": "code",
      "metadata": {
        "id": "IzOTFHIHZF1b"
      },
      "source": [
        "import pandas as pd\n",
        "import numpy as np\n",
        "import matplotlib.pyplot as plt"
      ],
      "execution_count": 1,
      "outputs": []
    },
    {
      "cell_type": "code",
      "metadata": {
        "id": "28i8VIv6ZTiY"
      },
      "source": [
        "df = pd.read_csv('data-sc.csv') # load data"
      ],
      "execution_count": 5,
      "outputs": []
    },
    {
      "cell_type": "markdown",
      "metadata": {
        "id": "YLQLMkQ6bM5r"
      },
      "source": [
        "Sort dataframe in descending order, so we will be able to call the first 10 rows as the 10 top counties with highest number of cases"
      ]
    },
    {
      "cell_type": "code",
      "metadata": {
        "id": "sM0KrhXpZgDi"
      },
      "source": [
        "df = df.sort_values('Cases', ascending=False)"
      ],
      "execution_count": 7,
      "outputs": []
    },
    {
      "cell_type": "markdown",
      "metadata": {
        "id": "-N15UFvQa7RE"
      },
      "source": [
        "Configurations, and defining the axis"
      ]
    },
    {
      "cell_type": "code",
      "metadata": {
        "colab": {
          "base_uri": "https://localhost:8080/",
          "height": 369
        },
        "id": "c8vXFe-KZ3i-",
        "outputId": "8144a74a-66a7-48b1-ff93-ed7378d7e69e"
      },
      "source": [
        "plt.figure(figsize=(10,5)) # figure size defined\n",
        "x= df['County'].values[:10] # top 10 rows of County column\n",
        "y = df['Cases'].values[:10] # top 10 rows of Cases column \n",
        "x_position = [i for i, _ in enumerate(x)] # find the position of bars\n",
        "\n",
        "plt.bar(x_position, y, color='purple')\n",
        "\n",
        "#Labels:\n",
        "plt.xlabel(\"County\")\n",
        "plt.ylabel(\"Number of Cases\")\n",
        "# Title:\n",
        "plt.title(\"COVID-19 Cases in South Carolina Counties\")\n",
        "\n",
        "#Put name of counties as xticks:\n",
        "plt.xticks(x_position, x)\n",
        "plt.tight_layout()\n"
      ],
      "execution_count": 25,
      "outputs": [
        {
          "output_type": "display_data",
          "data": {
            "image/png": "[encoded data removed]",
            "text/plain": [
              "<Figure size 720x360 with 1 Axes>"
            ]
          },
          "metadata": {
            "tags": [],
            "needs_background": "light"
          }
        }
      ]
    }
  ]
}