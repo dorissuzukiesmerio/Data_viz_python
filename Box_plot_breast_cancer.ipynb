{
  "nbformat": 4,
  "nbformat_minor": 0,
  "metadata": {
    "colab": {
      "name": "Box_plot_breast_cancer.ipynb",
      "provenance": [],
      "collapsed_sections": [],
      "authorship_tag": "ABX9TyNJHNLfC6MIQaHWXovN62E0",
      "include_colab_link": true
    },
    "kernelspec": {
      "name": "python3",
      "display_name": "Python 3"
    },
    "language_info": {
      "name": "python"
    }
  },
  "cells": [
    {
      "cell_type": "markdown",
      "metadata": {
        "id": "view-in-github",
        "colab_type": "text"
      },
      "source": [
        "<a href=\"https://colab.research.google.com/github/dorissuzukiesmerio/Data_viz_python/blob/main/Box_plot_breast_cancer.ipynb\" target=\"_parent\"><img src=\"https://colab.research.google.com/assets/colab-badge.svg\" alt=\"Open In Colab\"/></a>"
      ]
    },
    {
      "cell_type": "code",
      "metadata": {
        "id": "92bj6HqY6yOn"
      },
      "source": [
        "import numpy as np\n",
        "import pandas as pd\n",
        "import matplotlib.pyplot as plt"
      ],
      "execution_count": 1,
      "outputs": []
    },
    {
      "cell_type": "code",
      "metadata": {
        "id": "S0NJEvsd7JEH"
      },
      "source": [
        "df = pd.read_csv('Breast-Cancer-Data.csv')"
      ],
      "execution_count": 3,
      "outputs": []
    },
    {
      "cell_type": "code",
      "metadata": {
        "colab": {
          "base_uri": "https://localhost:8080/"
        },
        "id": "BDRcZka47LmG",
        "outputId": "320aabe6-a3e9-4c20-d0de-b0fcde3ef4a3"
      },
      "source": [
        "print(df.columns) # Just taking a look, in order to correct slice in next step\n",
        "print(df['Class'].head(30))"
      ],
      "execution_count": 15,
      "outputs": [
        {
          "output_type": "stream",
          "text": [
            "Index(['mean radius', 'mean texture', 'mean perimeter', 'mean area',\n",
            "       'mean smoothness', 'mean compactness', 'mean concavity',\n",
            "       'mean concave points', 'mean symmetry', 'mean fractal dimension',\n",
            "       'radius error', 'texture error', 'perimeter error', 'area error',\n",
            "       'smoothness error', 'compactness error', 'concavity error',\n",
            "       'concave points error', 'symmetry error', 'fractal dimension error',\n",
            "       'worst radius', 'worst texture', 'worst perimeter', 'worst area',\n",
            "       'worst smoothness', 'worst compactness', 'worst concavity',\n",
            "       'worst concave points', 'worst symmetry', 'worst fractal dimension',\n",
            "       'Class'],\n",
            "      dtype='object')\n",
            "0        benign\n",
            "1        benign\n",
            "2        benign\n",
            "3        benign\n",
            "4        benign\n",
            "5        benign\n",
            "6        benign\n",
            "7        benign\n",
            "8        benign\n",
            "9        benign\n",
            "10       benign\n",
            "11       benign\n",
            "12       benign\n",
            "13       benign\n",
            "14       benign\n",
            "15       benign\n",
            "16       benign\n",
            "17       benign\n",
            "18       benign\n",
            "19    malignant\n",
            "20    malignant\n",
            "21    malignant\n",
            "22       benign\n",
            "23       benign\n",
            "24       benign\n",
            "25       benign\n",
            "26       benign\n",
            "27       benign\n",
            "28       benign\n",
            "29       benign\n",
            "Name: Class, dtype: object\n"
          ],
          "name": "stdout"
        }
      ]
    },
    {
      "cell_type": "markdown",
      "metadata": {
        "id": "YMXdgPC9AGBM"
      },
      "source": [
        "Splitting data according to benign and malignant:"
      ]
    },
    {
      "cell_type": "code",
      "metadata": {
        "id": "Hq7NJJgw7gI1"
      },
      "source": [
        "df_benign = df.loc[df['Class'] == 'benign'] # Selecting subsets according to criteria\n",
        "df_malignant = df.loc[df['Class'] == 'malignant']\n"
      ],
      "execution_count": 17,
      "outputs": []
    },
    {
      "cell_type": "markdown",
      "metadata": {
        "id": "-Dq3AbpzAMId"
      },
      "source": [
        "Define markers for outliers:"
      ]
    },
    {
      "cell_type": "code",
      "metadata": {
        "id": "DmR3fytiAP8Y"
      },
      "source": [
        "green_diamond = dict(markerfacecolor = 'g', marker='D') # Define markers to OUTLIERS"
      ],
      "execution_count": 18,
      "outputs": []
    },
    {
      "cell_type": "markdown",
      "metadata": {
        "id": "bDJt9CcPASuO"
      },
      "source": [
        "Plotting:"
      ]
    },
    {
      "cell_type": "code",
      "metadata": {
        "colab": {
          "base_uri": "https://localhost:8080/",
          "height": 650
        },
        "id": "xaMorznxAY0Q",
        "outputId": "51f7e4d9-c8e3-40b5-873a-bff8da75e3ed"
      },
      "source": [
        "plt.figure(figsize=(10,5))\n",
        "\n",
        "data = [df_benign['mean area'], df_malignant['mean area']] # mean area from both subsets\n",
        "plt.title(\"Comparison of mean area between benign and malignant classes\")\n",
        "plt.xticks([1,2],['benign','malignant']) \n",
        "plt.ylabel('Cases')\n",
        "plt.boxplot(data, flierprops= green_diamond, notch=True)\n"
      ],
      "execution_count": 19,
      "outputs": [
        {
          "output_type": "stream",
          "text": [
            "/usr/local/lib/python3.7/dist-packages/numpy/core/_asarray.py:83: VisibleDeprecationWarning: Creating an ndarray from ragged nested sequences (which is a list-or-tuple of lists-or-tuples-or ndarrays with different lengths or shapes) is deprecated. If you meant to do this, you must specify 'dtype=object' when creating the ndarray\n",
            "  return array(a, dtype, copy=False, order=order)\n"
          ],
          "name": "stderr"
        },
        {
          "output_type": "execute_result",
          "data": {
            "text/plain": [
              "{'boxes': [<matplotlib.lines.Line2D at 0x7f3e94c60650>,\n",
              "  <matplotlib.lines.Line2D at 0x7f3e94bdb890>],\n",
              " 'caps': [<matplotlib.lines.Line2D at 0x7f3e94bf5f10>,\n",
              "  <matplotlib.lines.Line2D at 0x7f3e94c16690>,\n",
              "  <matplotlib.lines.Line2D at 0x7f3e959cd5d0>,\n",
              "  <matplotlib.lines.Line2D at 0x7f3e94b0f2d0>],\n",
              " 'fliers': [<matplotlib.lines.Line2D at 0x7f3e94bdb990>,\n",
              "  <matplotlib.lines.Line2D at 0x7f3e94b0fd50>],\n",
              " 'means': [],\n",
              " 'medians': [<matplotlib.lines.Line2D at 0x7f3e94c16710>,\n",
              "  <matplotlib.lines.Line2D at 0x7f3e94b0f810>],\n",
              " 'whiskers': [<matplotlib.lines.Line2D at 0x7f3e94c60710>,\n",
              "  <matplotlib.lines.Line2D at 0x7f3e94bf57d0>,\n",
              "  <matplotlib.lines.Line2D at 0x7f3e94c20a50>,\n",
              "  <matplotlib.lines.Line2D at 0x7f3e94c20250>]}"
            ]
          },
          "metadata": {
            "tags": []
          },
          "execution_count": 19
        },
        {
          "output_type": "display_data",
          "data": {
            "image/png": "[encoded data removed]",
            "text/plain": [
              "<Figure size 720x360 with 1 Axes>"
            ]
          },
          "metadata": {
            "tags": [],
            "needs_background": "light"
          }
        }
      ]
    }
  ]
}