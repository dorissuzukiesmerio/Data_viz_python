{
  "nbformat": 4,
  "nbformat_minor": 0,
  "metadata": {
    "colab": {
      "name": "Box_plot_breast_cancer.ipynb",
      "provenance": [],
      "collapsed_sections": [],
      "authorship_tag": "ABX9TyOEwC6Uc7A6bBz+g/ut1/Up",
      "include_colab_link": true
    },
    "kernelspec": {
      "name": "python3",
      "display_name": "Python 3"
    },
    "language_info": {
      "name": "python"
    }
  },
  "cells": [
    {
      "cell_type": "markdown",
      "metadata": {
        "id": "view-in-github",
        "colab_type": "text"
      },
      "source": [
        "<a href=\"https://colab.research.google.com/github/dorissuzukiesmerio/Data_viz_python/blob/main/Box_plot_breast_cancer.ipynb\" target=\"_parent\"><img src=\"https://colab.research.google.com/assets/colab-badge.svg\" alt=\"Open In Colab\"/></a>"
      ]
    },
    {
      "cell_type": "code",
      "metadata": {
        "id": "92bj6HqY6yOn"
      },
      "source": [
        "import numpy as np\n",
        "import pandas as pd\n",
        "import matplotlib.pyplot as plt"
      ],
      "execution_count": 1,
      "outputs": []
    },
    {
      "cell_type": "code",
      "metadata": {
        "id": "S0NJEvsd7JEH"
      },
      "source": [
        "df = pd.read_csv('Breast-Cancer-Data.csv')"
      ],
      "execution_count": 3,
      "outputs": []
    },
    {
      "cell_type": "code",
      "metadata": {
        "colab": {
          "base_uri": "https://localhost:8080/"
        },
        "id": "BDRcZka47LmG",
        "outputId": "5d68d511-4001-4d86-93fb-56fa48c101c8"
      },
      "source": [
        "print(df.columns) # Just taking a look, in order to correct slice in next step\n",
        "print(df['Class'])"
      ],
      "execution_count": 21,
      "outputs": [
        {
          "output_type": "stream",
          "text": [
            "Index(['mean radius', 'mean texture', 'mean perimeter', 'mean area',\n",
            "       'mean smoothness', 'mean compactness', 'mean concavity',\n",
            "       'mean concave points', 'mean symmetry', 'mean fractal dimension',\n",
            "       'radius error', 'texture error', 'perimeter error', 'area error',\n",
            "       'smoothness error', 'compactness error', 'concavity error',\n",
            "       'concave points error', 'symmetry error', 'fractal dimension error',\n",
            "       'worst radius', 'worst texture', 'worst perimeter', 'worst area',\n",
            "       'worst smoothness', 'worst compactness', 'worst concavity',\n",
            "       'worst concave points', 'worst symmetry', 'worst fractal dimension',\n",
            "       'Class'],\n",
            "      dtype='object')\n",
            "0         benign\n",
            "1         benign\n",
            "2         benign\n",
            "3         benign\n",
            "4         benign\n",
            "         ...    \n",
            "564       benign\n",
            "565       benign\n",
            "566       benign\n",
            "567       benign\n",
            "568    malignant\n",
            "Name: Class, Length: 569, dtype: object\n"
          ],
          "name": "stdout"
        }
      ]
    },
    {
      "cell_type": "markdown",
      "metadata": {
        "id": "YMXdgPC9AGBM"
      },
      "source": [
        "Splitting data according to benign and malignant:"
      ]
    },
    {
      "cell_type": "code",
      "metadata": {
        "id": "Hq7NJJgw7gI1"
      },
      "source": [
        "df_benign = df.loc[df['Class'] == 'benign'] # Selecting subsets according to criteria\n",
        "df_malignant = df.loc[df['Class'] == 'malignant']\n"
      ],
      "execution_count": 17,
      "outputs": []
    },
    {
      "cell_type": "markdown",
      "metadata": {
        "id": "-Dq3AbpzAMId"
      },
      "source": [
        "Define markers for outliers:"
      ]
    },
    {
      "cell_type": "code",
      "metadata": {
        "id": "DmR3fytiAP8Y"
      },
      "source": [
        "green_diamond = dict(markerfacecolor = 'g', marker='D') # Define markers to OUTLIERS"
      ],
      "execution_count": 18,
      "outputs": []
    },
    {
      "cell_type": "markdown",
      "metadata": {
        "id": "bDJt9CcPASuO"
      },
      "source": [
        "Plotting:"
      ]
    },
    {
      "cell_type": "code",
      "metadata": {
        "colab": {
          "base_uri": "https://localhost:8080/",
          "height": 650
        },
        "id": "xaMorznxAY0Q",
        "outputId": "baee1958-5e26-4987-de80-e26617809ec9"
      },
      "source": [
        "plt.figure(figsize=(5,5))\n",
        "\n",
        "data = [df_benign['mean area'], df_malignant['mean area']] # mean area from both subsets\n",
        "plt.title(\"Comparison of mean area between benign and malignant classes\")\n",
        "plt.xticks([1,2],['benign','malignant']) \n",
        "plt.ylabel('Cases')\n",
        "plt.boxplot(data, flierprops= green_diamond, notch=True)\n"
      ],
      "execution_count": 22,
      "outputs": [
        {
          "output_type": "stream",
          "text": [
            "/usr/local/lib/python3.7/dist-packages/numpy/core/_asarray.py:83: VisibleDeprecationWarning: Creating an ndarray from ragged nested sequences (which is a list-or-tuple of lists-or-tuples-or ndarrays with different lengths or shapes) is deprecated. If you meant to do this, you must specify 'dtype=object' when creating the ndarray\n",
            "  return array(a, dtype, copy=False, order=order)\n"
          ],
          "name": "stderr"
        },
        {
          "output_type": "execute_result",
          "data": {
            "text/plain": [
              "{'boxes': [<matplotlib.lines.Line2D at 0x7f3e94b97dd0>,\n",
              "  <matplotlib.lines.Line2D at 0x7f3e9467d890>],\n",
              " 'caps': [<matplotlib.lines.Line2D at 0x7f3e94b07790>,\n",
              "  <matplotlib.lines.Line2D at 0x7f3e94b0a190>,\n",
              "  <matplotlib.lines.Line2D at 0x7f3e9460d310>,\n",
              "  <matplotlib.lines.Line2D at 0x7f3e9460d850>],\n",
              " 'fliers': [<matplotlib.lines.Line2D at 0x7f3e94b0aed0>,\n",
              "  <matplotlib.lines.Line2D at 0x7f3e94615310>],\n",
              " 'means': [],\n",
              " 'medians': [<matplotlib.lines.Line2D at 0x7f3e94b0a7d0>,\n",
              "  <matplotlib.lines.Line2D at 0x7f3e9460dd90>],\n",
              " 'whiskers': [<matplotlib.lines.Line2D at 0x7f3e959b16d0>,\n",
              "  <matplotlib.lines.Line2D at 0x7f3e94b07350>,\n",
              "  <matplotlib.lines.Line2D at 0x7f3e9467d150>,\n",
              "  <matplotlib.lines.Line2D at 0x7f3e9467d610>]}"
            ]
          },
          "metadata": {
            "tags": []
          },
          "execution_count": 22
        },
        {
          "output_type": "display_data",
          "data": {
            "image/png": "[encoded data removed]",
            "text/plain": [
              "<Figure size 360x360 with 1 Axes>"
            ]
          },
          "metadata": {
            "tags": [],
            "needs_background": "light"
          }
        }
      ]
    }
  ]
}