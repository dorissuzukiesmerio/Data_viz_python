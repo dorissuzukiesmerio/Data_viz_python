{
  "nbformat": 4,
  "nbformat_minor": 0,
  "metadata": {
    "colab": {
      "name": "Python_viz.ipynb",
      "provenance": [],
      "collapsed_sections": [],
      "authorship_tag": "ABX9TyMwPpWjAstisBvNKkdO5/5R",
      "include_colab_link": true
    },
    "kernelspec": {
      "name": "python3",
      "display_name": "Python 3"
    },
    "language_info": {
      "name": "python"
    }
  },
  "cells": [
    {
      "cell_type": "markdown",
      "metadata": {
        "id": "view-in-github",
        "colab_type": "text"
      },
      "source": [
        "<a href=\"https://colab.research.google.com/github/dorissuzukiesmerio/Data_viz_python/blob/main/Python_viz.ipynb\" target=\"_parent\"><img src=\"https://colab.research.google.com/assets/colab-badge.svg\" alt=\"Open In Colab\"/></a>"
      ]
    },
    {
      "cell_type": "code",
      "metadata": {
        "id": "079a-bBOQ2aW"
      },
      "source": [
        "import pandas as pd\n",
        "import numpy as np\n",
        "import matplotlib.pyplot as plt\n",
        "import seaborn as sns"
      ],
      "execution_count": 1,
      "outputs": []
    },
    {
      "cell_type": "markdown",
      "metadata": {
        "id": "yr-l5S2_SIYc"
      },
      "source": [
        "LOAD FILE INTO NUMPY ARRAY OR PANDAS DATAFRAME:\n",
        "\n",
        "In order to load the file into NumPy array, the 'genfromtxt' could be used. The full syntax is:\n",
        "\n"
      ]
    },
    {
      "cell_type": "code",
      "metadata": {
        "id": "Ggl7s3_HSTV2"
      },
      "source": [
        "data = np.genfromtxt('Breast-Cancer-Data.csv',delimiter=',',skip_header=1)"
      ],
      "execution_count": 6,
      "outputs": []
    },
    {
      "cell_type": "markdown",
      "metadata": {
        "id": "bOijDqjxTHFs"
      },
      "source": [
        "In the above command, the first argument is the filename, the second argument is the delimiter, which is comma here. The skip_header tells the NumPy to skip how many lines as header.\n",
        "\n",
        "One problem with using NumPy arrays for mixed data type datasets is that we need to define the data type as None and also tell the NumPy the number of headers and delimiter as we saw in the above definition. One of the best alternative to NumPy arrays is Pandas dataframe that can load the data as:"
      ]
    },
    {
      "cell_type": "code",
      "metadata": {
        "id": "pL4Pqc5bTLfd"
      },
      "source": [
        "df = pd.read_csv(\"Breast-Cancer-Data.csv\")"
      ],
      "execution_count": 8,
      "outputs": []
    },
    {
      "cell_type": "markdown",
      "metadata": {
        "id": "m5BvNN3wTds4"
      },
      "source": [
        "SCATTER PLOT with MATPLOTLIB:\n",
        "\n",
        "Now we could use NumPy array created based on breast cancer file by using 'plt.plot(x,y,'o')', where \n",
        "x is the x axis array, \n",
        "y is the y axis array, \n",
        "and 'o' is the dot marker for scatter plot:"
      ]
    },
    {
      "cell_type": "code",
      "metadata": {
        "colab": {
          "base_uri": "https://localhost:8080/"
        },
        "id": "HFZmO2llTiY2",
        "outputId": "e213ae15-4008-4c64-ff27-52404f1f9c2a"
      },
      "source": [
        "print(df.columns)\n",
        "print(df.head())"
      ],
      "execution_count": 13,
      "outputs": [
        {
          "output_type": "stream",
          "text": [
            "Index(['mean radius', 'mean texture', 'mean perimeter', 'mean area',\n",
            "       'mean smoothness', 'mean compactness', 'mean concavity',\n",
            "       'mean concave points', 'mean symmetry', 'mean fractal dimension',\n",
            "       'radius error', 'texture error', 'perimeter error', 'area error',\n",
            "       'smoothness error', 'compactness error', 'concavity error',\n",
            "       'concave points error', 'symmetry error', 'fractal dimension error',\n",
            "       'worst radius', 'worst texture', 'worst perimeter', 'worst area',\n",
            "       'worst smoothness', 'worst compactness', 'worst concavity',\n",
            "       'worst concave points', 'worst symmetry', 'worst fractal dimension',\n",
            "       'Class'],\n",
            "      dtype='object')\n",
            "   mean radius  mean texture  ...  worst fractal dimension   Class\n",
            "0        17.99         10.38  ...                  0.11890  benign\n",
            "1        20.57         17.77  ...                  0.08902  benign\n",
            "2        19.69         21.25  ...                  0.08758  benign\n",
            "3        11.42         20.38  ...                  0.17300  benign\n",
            "4        20.29         14.34  ...                  0.07678  benign\n",
            "\n",
            "[5 rows x 31 columns]\n"
          ],
          "name": "stdout"
        }
      ]
    },
    {
      "cell_type": "code",
      "metadata": {
        "id": "l63_Y8QCUR9M"
      },
      "source": [
        "#x=data.T[0] # only using numpy, we would need to transpose\n",
        "#y=data.T[1]\n",
        "x= data[:,0] # with pandas, slice dataframe\n",
        "y=data[:,1]"
      ],
      "execution_count": 19,
      "outputs": []
    },
    {
      "cell_type": "code",
      "metadata": {
        "colab": {
          "base_uri": "https://localhost:8080/",
          "height": 282
        },
        "id": "b5XmwPFuUe-E",
        "outputId": "52cad1b1-5c19-4399-e385-13a8b24bb540"
      },
      "source": [
        "# plt.plot(x,y,'o')\n",
        "plt.scatter(x,y)"
      ],
      "execution_count": 25,
      "outputs": [
        {
          "output_type": "execute_result",
          "data": {
            "text/plain": [
              "<matplotlib.collections.PathCollection at 0x7fde4ee438d0>"
            ]
          },
          "metadata": {
            "tags": []
          },
          "execution_count": 25
        },
        {
          "output_type": "display_data",
          "data": {
            "image/png": "[encoded data removed]",
            "text/plain": [
              "<Figure size 432x288 with 1 Axes>"
            ]
          },
          "metadata": {
            "tags": [],
            "needs_background": "light"
          }
        }
      ]
    },
    {
      "cell_type": "markdown",
      "metadata": {
        "id": "u50_EAW4Wq2z"
      },
      "source": [
        "Using pandas dataframe\n",
        "Transposing it directly"
      ]
    },
    {
      "cell_type": "code",
      "metadata": {
        "colab": {
          "base_uri": "https://localhost:8080/",
          "height": 282
        },
        "id": "3nRPU8BWWuSR",
        "outputId": "d155d77e-8be0-44be-d5d2-2e96b4f9208f"
      },
      "source": [
        "plt.plot(df['mean radius'],df['mean texture'],'o')"
      ],
      "execution_count": 27,
      "outputs": [
        {
          "output_type": "execute_result",
          "data": {
            "text/plain": [
              "[<matplotlib.lines.Line2D at 0x7fde4ee04750>]"
            ]
          },
          "metadata": {
            "tags": []
          },
          "execution_count": 27
        },
        {
          "output_type": "display_data",
          "data": {
            "image/png": "[encoded data removed]",
            "text/plain": [
              "<Figure size 432x288 with 1 Axes>"
            ]
          },
          "metadata": {
            "tags": [],
            "needs_background": "light"
          }
        }
      ]
    }
  ]
}