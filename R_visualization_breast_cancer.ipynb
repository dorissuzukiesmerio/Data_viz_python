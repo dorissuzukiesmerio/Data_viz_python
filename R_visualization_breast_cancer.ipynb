{
  "nbformat": 4,
  "nbformat_minor": 0,
  "metadata": {
    "colab": {
      "name": "R_visualization_breast_cancer.ipynb",
      "provenance": [],
      "collapsed_sections": [],
      "authorship_tag": "ABX9TyNNijzA3LByieYclB1/8Gj2",
      "include_colab_link": true
    },
    "kernelspec": {
      "name": "ir",
      "display_name": "R"
    },
    "language_info": {
      "name": "R"
    }
  },
  "cells": [
    {
      "cell_type": "markdown",
      "metadata": {
        "id": "view-in-github",
        "colab_type": "text"
      },
      "source": [
        "<a href=\"https://colab.research.google.com/github/dorissuzukiesmerio/Data_viz_python/blob/main/R_visualization_breast_cancer.ipynb\" target=\"_parent\"><img src=\"https://colab.research.google.com/assets/colab-badge.svg\" alt=\"Open In Colab\"/></a>"
      ]
    },
    {
      "cell_type": "code",
      "metadata": {
        "colab": {
          "base_uri": "https://localhost:8080/"
        },
        "id": "N8hzKkVDidgd",
        "outputId": "bd038afe-c14f-400e-ba8a-ee217087b54d"
      },
      "source": [
        "library(readr) # read csv files in R\n",
        "library(stringr) #help to manipulate column names in loaded dataframe\n",
        "library(dplyr) # help to manipulate dataset and SUMMARIZE information"
      ],
      "execution_count": null,
      "outputs": [
        {
          "output_type": "stream",
          "text": [
            "\n",
            "Attaching package: ‘dplyr’\n",
            "\n",
            "\n",
            "The following objects are masked from ‘package:stats’:\n",
            "\n",
            "    filter, lag\n",
            "\n",
            "\n",
            "The following objects are masked from ‘package:base’:\n",
            "\n",
            "    intersect, setdiff, setequal, union\n",
            "\n",
            "\n"
          ],
          "name": "stderr"
        }
      ]
    },
    {
      "cell_type": "code",
      "metadata": {
        "id": "EywPV7D8jD8w",
        "colab": {
          "base_uri": "https://localhost:8080/"
        },
        "outputId": "41fa7e5e-27cc-4327-d9b0-1f17b767b0fb"
      },
      "source": [
        "# Load dataset (after attatching the file if using google colab):\n",
        "BreastCancer <- read_csv(\"Breast-Cancer-Data.csv\")"
      ],
      "execution_count": null,
      "outputs": [
        {
          "output_type": "stream",
          "text": [
            "\n",
            "\u001b[36m──\u001b[39m \u001b[1m\u001b[1mColumn specification\u001b[1m\u001b[22m \u001b[36m────────────────────────────────────────────────────────\u001b[39m\n",
            "cols(\n",
            "  .default = col_double(),\n",
            "  Class = \u001b[31mcol_character()\u001b[39m\n",
            ")\n",
            "\u001b[36mℹ\u001b[39m Use \u001b[30m\u001b[47m\u001b[30m\u001b[47m`spec()`\u001b[47m\u001b[30m\u001b[49m\u001b[39m for the full column specifications.\n",
            "\n",
            "\n"
          ],
          "name": "stderr"
        }
      ]
    },
    {
      "cell_type": "code",
      "metadata": {
        "colab": {
          "base_uri": "https://localhost:8080/",
          "height": 103
        },
        "id": "xmQqxyU6y0j0",
        "outputId": "c2cf9d4d-fe0a-4d14-957e-d770b79babf9"
      },
      "source": [
        "colnames(BreastCancer)"
      ],
      "execution_count": null,
      "outputs": [
        {
          "output_type": "display_data",
          "data": {
            "text/plain": [
              " [1] \"mean radius\"             \"mean texture\"           \n",
              " [3] \"mean perimeter\"          \"mean area\"              \n",
              " [5] \"mean smoothness\"         \"mean compactness\"       \n",
              " [7] \"mean concavity\"          \"mean concave points\"    \n",
              " [9] \"mean symmetry\"           \"mean fractal dimension\" \n",
              "[11] \"radius error\"            \"texture error\"          \n",
              "[13] \"perimeter error\"         \"area error\"             \n",
              "[15] \"smoothness error\"        \"compactness error\"      \n",
              "[17] \"concavity error\"         \"concave points error\"   \n",
              "[19] \"symmetry error\"          \"fractal dimension error\"\n",
              "[21] \"worst radius\"            \"worst texture\"          \n",
              "[23] \"worst perimeter\"         \"worst area\"             \n",
              "[25] \"worst smoothness\"        \"worst compactness\"      \n",
              "[27] \"worst concavity\"         \"worst concave points\"   \n",
              "[29] \"worst symmetry\"          \"worst fractal dimension\"\n",
              "[31] \"Class\"                  "
            ],
            "text/latex": "\\begin{enumerate*}\n\\item 'mean radius'\n\\item 'mean texture'\n\\item 'mean perimeter'\n\\item 'mean area'\n\\item 'mean smoothness'\n\\item 'mean compactness'\n\\item 'mean concavity'\n\\item 'mean concave points'\n\\item 'mean symmetry'\n\\item 'mean fractal dimension'\n\\item 'radius error'\n\\item 'texture error'\n\\item 'perimeter error'\n\\item 'area error'\n\\item 'smoothness error'\n\\item 'compactness error'\n\\item 'concavity error'\n\\item 'concave points error'\n\\item 'symmetry error'\n\\item 'fractal dimension error'\n\\item 'worst radius'\n\\item 'worst texture'\n\\item 'worst perimeter'\n\\item 'worst area'\n\\item 'worst smoothness'\n\\item 'worst compactness'\n\\item 'worst concavity'\n\\item 'worst concave points'\n\\item 'worst symmetry'\n\\item 'worst fractal dimension'\n\\item 'Class'\n\\end{enumerate*}\n",
            "text/markdown": "1. 'mean radius'\n2. 'mean texture'\n3. 'mean perimeter'\n4. 'mean area'\n5. 'mean smoothness'\n6. 'mean compactness'\n7. 'mean concavity'\n8. 'mean concave points'\n9. 'mean symmetry'\n10. 'mean fractal dimension'\n11. 'radius error'\n12. 'texture error'\n13. 'perimeter error'\n14. 'area error'\n15. 'smoothness error'\n16. 'compactness error'\n17. 'concavity error'\n18. 'concave points error'\n19. 'symmetry error'\n20. 'fractal dimension error'\n21. 'worst radius'\n22. 'worst texture'\n23. 'worst perimeter'\n24. 'worst area'\n25. 'worst smoothness'\n26. 'worst compactness'\n27. 'worst concavity'\n28. 'worst concave points'\n29. 'worst symmetry'\n30. 'worst fractal dimension'\n31. 'Class'\n\n\n",
            "text/html": [
              "<style>\n",
              ".list-inline {list-style: none; margin:0; padding: 0}\n",
              ".list-inline>li {display: inline-block}\n",
              ".list-inline>li:not(:last-child)::after {content: \"\\00b7\"; padding: 0 .5ex}\n",
              "</style>\n",
              "<ol class=list-inline><li>'mean radius'</li><li>'mean texture'</li><li>'mean perimeter'</li><li>'mean area'</li><li>'mean smoothness'</li><li>'mean compactness'</li><li>'mean concavity'</li><li>'mean concave points'</li><li>'mean symmetry'</li><li>'mean fractal dimension'</li><li>'radius error'</li><li>'texture error'</li><li>'perimeter error'</li><li>'area error'</li><li>'smoothness error'</li><li>'compactness error'</li><li>'concavity error'</li><li>'concave points error'</li><li>'symmetry error'</li><li>'fractal dimension error'</li><li>'worst radius'</li><li>'worst texture'</li><li>'worst perimeter'</li><li>'worst area'</li><li>'worst smoothness'</li><li>'worst compactness'</li><li>'worst concavity'</li><li>'worst concave points'</li><li>'worst symmetry'</li><li>'worst fractal dimension'</li><li>'Class'</li></ol>\n"
            ]
          },
          "metadata": {
            "tags": []
          }
        }
      ]
    },
    {
      "cell_type": "code",
      "metadata": {
        "id": "wiA0dZfPy3kq"
      },
      "source": [
        "names(BreastCancer)<-str_replace_all(names(BreastCancer), c(\" \" = \".\" , \",\" = \"\" ))"
      ],
      "execution_count": null,
      "outputs": []
    },
    {
      "cell_type": "code",
      "metadata": {
        "colab": {
          "base_uri": "https://localhost:8080/",
          "height": 103
        },
        "id": "psOlGr-wz2zq",
        "outputId": "8be996c6-5aaa-477c-f574-471b32c1dc8c"
      },
      "source": [
        "colnames(BreastCancer)"
      ],
      "execution_count": null,
      "outputs": [
        {
          "output_type": "display_data",
          "data": {
            "text/plain": [
              " [1] \"mean.radius\"             \"mean.texture\"           \n",
              " [3] \"mean.perimeter\"          \"mean.area\"              \n",
              " [5] \"mean.smoothness\"         \"mean.compactness\"       \n",
              " [7] \"mean.concavity\"          \"mean.concave.points\"    \n",
              " [9] \"mean.symmetry\"           \"mean.fractal.dimension\" \n",
              "[11] \"radius.error\"            \"texture.error\"          \n",
              "[13] \"perimeter.error\"         \"area.error\"             \n",
              "[15] \"smoothness.error\"        \"compactness.error\"      \n",
              "[17] \"concavity.error\"         \"concave.points.error\"   \n",
              "[19] \"symmetry.error\"          \"fractal.dimension.error\"\n",
              "[21] \"worst.radius\"            \"worst.texture\"          \n",
              "[23] \"worst.perimeter\"         \"worst.area\"             \n",
              "[25] \"worst.smoothness\"        \"worst.compactness\"      \n",
              "[27] \"worst.concavity\"         \"worst.concave.points\"   \n",
              "[29] \"worst.symmetry\"          \"worst.fractal.dimension\"\n",
              "[31] \"Class\"                  "
            ],
            "text/latex": "\\begin{enumerate*}\n\\item 'mean.radius'\n\\item 'mean.texture'\n\\item 'mean.perimeter'\n\\item 'mean.area'\n\\item 'mean.smoothness'\n\\item 'mean.compactness'\n\\item 'mean.concavity'\n\\item 'mean.concave.points'\n\\item 'mean.symmetry'\n\\item 'mean.fractal.dimension'\n\\item 'radius.error'\n\\item 'texture.error'\n\\item 'perimeter.error'\n\\item 'area.error'\n\\item 'smoothness.error'\n\\item 'compactness.error'\n\\item 'concavity.error'\n\\item 'concave.points.error'\n\\item 'symmetry.error'\n\\item 'fractal.dimension.error'\n\\item 'worst.radius'\n\\item 'worst.texture'\n\\item 'worst.perimeter'\n\\item 'worst.area'\n\\item 'worst.smoothness'\n\\item 'worst.compactness'\n\\item 'worst.concavity'\n\\item 'worst.concave.points'\n\\item 'worst.symmetry'\n\\item 'worst.fractal.dimension'\n\\item 'Class'\n\\end{enumerate*}\n",
            "text/markdown": "1. 'mean.radius'\n2. 'mean.texture'\n3. 'mean.perimeter'\n4. 'mean.area'\n5. 'mean.smoothness'\n6. 'mean.compactness'\n7. 'mean.concavity'\n8. 'mean.concave.points'\n9. 'mean.symmetry'\n10. 'mean.fractal.dimension'\n11. 'radius.error'\n12. 'texture.error'\n13. 'perimeter.error'\n14. 'area.error'\n15. 'smoothness.error'\n16. 'compactness.error'\n17. 'concavity.error'\n18. 'concave.points.error'\n19. 'symmetry.error'\n20. 'fractal.dimension.error'\n21. 'worst.radius'\n22. 'worst.texture'\n23. 'worst.perimeter'\n24. 'worst.area'\n25. 'worst.smoothness'\n26. 'worst.compactness'\n27. 'worst.concavity'\n28. 'worst.concave.points'\n29. 'worst.symmetry'\n30. 'worst.fractal.dimension'\n31. 'Class'\n\n\n",
            "text/html": [
              "<style>\n",
              ".list-inline {list-style: none; margin:0; padding: 0}\n",
              ".list-inline>li {display: inline-block}\n",
              ".list-inline>li:not(:last-child)::after {content: \"\\00b7\"; padding: 0 .5ex}\n",
              "</style>\n",
              "<ol class=list-inline><li>'mean.radius'</li><li>'mean.texture'</li><li>'mean.perimeter'</li><li>'mean.area'</li><li>'mean.smoothness'</li><li>'mean.compactness'</li><li>'mean.concavity'</li><li>'mean.concave.points'</li><li>'mean.symmetry'</li><li>'mean.fractal.dimension'</li><li>'radius.error'</li><li>'texture.error'</li><li>'perimeter.error'</li><li>'area.error'</li><li>'smoothness.error'</li><li>'compactness.error'</li><li>'concavity.error'</li><li>'concave.points.error'</li><li>'symmetry.error'</li><li>'fractal.dimension.error'</li><li>'worst.radius'</li><li>'worst.texture'</li><li>'worst.perimeter'</li><li>'worst.area'</li><li>'worst.smoothness'</li><li>'worst.compactness'</li><li>'worst.concavity'</li><li>'worst.concave.points'</li><li>'worst.symmetry'</li><li>'worst.fractal.dimension'</li><li>'Class'</li></ol>\n"
            ]
          },
          "metadata": {
            "tags": []
          }
        }
      ]
    },
    {
      "cell_type": "code",
      "metadata": {
        "id": "N0SEXXJSz3ox"
      },
      "source": [
        "newBreastCancer <- select(BreastCancer, mean.radius, mean.texture, mean.perimeter)"
      ],
      "execution_count": null,
      "outputs": []
    },
    {
      "cell_type": "code",
      "metadata": {
        "id": "NI2n_IVO0Ff1"
      },
      "source": [
        "filteredBreastCancer <- filter(BreastCancer, Class == \"benign\")"
      ],
      "execution_count": null,
      "outputs": []
    },
    {
      "cell_type": "code",
      "metadata": {
        "id": "8VmF4TL80ZIN"
      },
      "source": [
        "mutatedBreastCancer <- mutate(BreastCancer, mean.radius = mean.radius * 0.394)"
      ],
      "execution_count": null,
      "outputs": []
    },
    {
      "cell_type": "code",
      "metadata": {
        "id": "0NsaNWKuJoiO"
      },
      "source": [
        "summarizedBreastCancer <- summarize(BreastCancer, \n",
        "                     mean_mr = mean(mean.radius, na.rm=TRUE), \n",
        "                     mean_mt = mean(mean.texture, na.rm=TRUE))"
      ],
      "execution_count": null,
      "outputs": []
    },
    {
      "cell_type": "code",
      "metadata": {
        "colab": {
          "base_uri": "https://localhost:8080/",
          "height": 129
        },
        "id": "COg_d9eJJpI0",
        "outputId": "7dc65346-e093-4c30-d359-480f2f449389"
      },
      "source": [
        "summarizedBreastCancer"
      ],
      "execution_count": null,
      "outputs": [
        {
          "output_type": "display_data",
          "data": {
            "text/plain": [
              "  mean_mr  mean_mt \n",
              "1 14.12729 19.28965"
            ],
            "text/latex": "A tibble: 1 × 2\n\\begin{tabular}{ll}\n mean\\_mr & mean\\_mt\\\\\n <dbl> & <dbl>\\\\\n\\hline\n\t 14.12729 & 19.28965\\\\\n\\end{tabular}\n",
            "text/markdown": "\nA tibble: 1 × 2\n\n| mean_mr &lt;dbl&gt; | mean_mt &lt;dbl&gt; |\n|---|---|\n| 14.12729 | 19.28965 |\n\n",
            "text/html": [
              "<table class=\"dataframe\">\n",
              "<caption>A tibble: 1 × 2</caption>\n",
              "<thead>\n",
              "\t<tr><th scope=col>mean_mr</th><th scope=col>mean_mt</th></tr>\n",
              "\t<tr><th scope=col>&lt;dbl&gt;</th><th scope=col>&lt;dbl&gt;</th></tr>\n",
              "</thead>\n",
              "<tbody>\n",
              "\t<tr><td>14.12729</td><td>19.28965</td></tr>\n",
              "</tbody>\n",
              "</table>\n"
            ]
          },
          "metadata": {
            "tags": []
          }
        }
      ]
    },
    {
      "cell_type": "code",
      "metadata": {
        "id": "qEY_CYulJrmC"
      },
      "source": [
        ""
      ],
      "execution_count": null,
      "outputs": []
    }
  ]
}