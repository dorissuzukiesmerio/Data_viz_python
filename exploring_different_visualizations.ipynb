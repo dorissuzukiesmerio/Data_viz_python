{
  "nbformat": 4,
  "nbformat_minor": 0,
  "metadata": {
    "colab": {
      "name": "exploring_different_visualizations.ipynb",
      "provenance": [],
      "collapsed_sections": [],
      "authorship_tag": "ABX9TyM6skogyVKsqBrYyKhXBiIA",
      "include_colab_link": true
    },
    "kernelspec": {
      "name": "ir",
      "display_name": "R"
    },
    "language_info": {
      "name": "R"
    }
  },
  "cells": [
    {
      "cell_type": "markdown",
      "metadata": {
        "id": "view-in-github",
        "colab_type": "text"
      },
      "source": [
        "<a href=\"https://colab.research.google.com/github/dorissuzukiesmerio/Data_viz_python/blob/main/exploring_different_visualizations.ipynb\" target=\"_parent\"><img src=\"https://colab.research.google.com/assets/colab-badge.svg\" alt=\"Open In Colab\"/></a>"
      ]
    },
    {
      "cell_type": "code",
      "metadata": {
        "colab": {
          "base_uri": "https://localhost:8080/"
        },
        "id": "PEelXFEbai-P",
        "outputId": "8fcc6ffa-6fe6-4178-e01e-d71bd4f5f3ee"
      },
      "source": [
        "cat(system('python3 -c \"from google.colab import drive\\ndrive.mount()\"', intern=TRUE), sep='\\n', wait=TRUE)"
      ],
      "execution_count": 1,
      "outputs": [
        {
          "output_type": "stream",
          "text": [
            "Warning message in system(\"python3 -c \\\"from google.colab import drive\\ndrive.mount()\\\"\", :\n",
            "“running command 'python3 -c \"from google.colab import drive\n",
            "drive.mount()\"' had status 1”\n"
          ],
          "name": "stderr"
        },
        {
          "output_type": "stream",
          "text": [
            "\n",
            "TRUE\n"
          ],
          "name": "stdout"
        }
      ]
    },
    {
      "cell_type": "code",
      "metadata": {
        "colab": {
          "base_uri": "https://localhost:8080/"
        },
        "id": "mEu-rlCTcPXS",
        "outputId": "1c224ec2-3e35-4c1f-e968-9ea677c4dcbb"
      },
      "source": [
        "install.packages(\"rgl\", repos = \"http://cran.rstudio.com/\")\n",
        "install.packages(\"ConsRank\", repos = \"http://cran.rstudio.com/\")"
      ],
      "execution_count": 2,
      "outputs": [
        {
          "output_type": "stream",
          "text": [
            "Installing package into ‘/usr/local/lib/R/site-library’\n",
            "(as ‘lib’ is unspecified)\n",
            "\n",
            "also installing the dependencies ‘sass’, ‘jquerylib’, ‘httpuv’, ‘xtable’, ‘sourcetools’, ‘later’, ‘promises’, ‘bslib’, ‘lazyeval’, ‘miniUI’, ‘webshot’, ‘shinyjs’, ‘htmlwidgets’, ‘shiny’, ‘crosstalk’, ‘manipulateWidget’\n",
            "\n",
            "\n",
            "Installing package into ‘/usr/local/lib/R/site-library’\n",
            "(as ‘lib’ is unspecified)\n",
            "\n",
            "also installing the dependencies ‘XML’, ‘rlist’, ‘proxy’, ‘gtools’\n",
            "\n",
            "\n"
          ],
          "name": "stderr"
        }
      ]
    },
    {
      "cell_type": "code",
      "metadata": {
        "id": "mo5y5tBacRnW"
      },
      "source": [
        "system(\"add-apt-repository -y ppa:marutter/rrutter\")\n",
        "system(\"add-apt-repository -y ppa:marutter/c2d4u\")\n",
        "system(\"apt-get update\")\n",
        "system(\"apt install -y r-cran-rstan\")"
      ],
      "execution_count": 3,
      "outputs": []
    },
    {
      "cell_type": "code",
      "metadata": {
        "colab": {
          "base_uri": "https://localhost:8080/"
        },
        "id": "_j-i2v8GcT1w",
        "outputId": "0c83d764-8382-406e-b59d-52c3500a622e"
      },
      "source": [
        "install.packages('ggmap')\n",
        "install.packages('codetools')"
      ],
      "execution_count": 4,
      "outputs": [
        {
          "output_type": "stream",
          "text": [
            "Installing package into ‘/usr/local/lib/R/site-library’\n",
            "(as ‘lib’ is unspecified)\n",
            "\n",
            "also installing the dependencies ‘sp’, ‘RgoogleMaps’, ‘png’, ‘plyr’, ‘rjson’, ‘jpeg’, ‘bitops’\n",
            "\n",
            "\n",
            "Installing package into ‘/usr/local/lib/R/site-library’\n",
            "(as ‘lib’ is unspecified)\n",
            "\n"
          ],
          "name": "stderr"
        }
      ]
    },
    {
      "cell_type": "code",
      "metadata": {
        "id": "kS4Lxf8KcYmI"
      },
      "source": [
        "system(\"apt install libgdal-dev libproj-dev\")"
      ],
      "execution_count": 6,
      "outputs": []
    },
    {
      "cell_type": "code",
      "metadata": {
        "colab": {
          "base_uri": "https://localhost:8080/"
        },
        "id": "PSvRJnwUcd_p",
        "outputId": "4b18cea6-ae92-448f-eac7-3c0796dd2524"
      },
      "source": [
        "library(readr)\n",
        "library(stringr)\n",
        "library(dplyr)\n",
        "library(ggplot2)\n",
        "library(tidyverse)\n",
        "library(scales)\n",
        "install.packages('ggalt')\n",
        "library(ggalt)\n",
        "library(tidyr)\n",
        "install.packages('rgdal')\n",
        "install.packages('gapminder')\n",
        "library(gapminder)\n",
        "install.packages('ggcorrplot')\n",
        "library(ggcorrplot)"
      ],
      "execution_count": null,
      "outputs": [
        {
          "output_type": "stream",
          "text": [
            "\n",
            "Attaching package: ‘dplyr’\n",
            "\n",
            "\n",
            "The following objects are masked from ‘package:stats’:\n",
            "\n",
            "    filter, lag\n",
            "\n",
            "\n",
            "The following objects are masked from ‘package:base’:\n",
            "\n",
            "    intersect, setdiff, setequal, union\n",
            "\n",
            "\n",
            "Warning message in system(\"timedatectl\", intern = TRUE):\n",
            "“running command 'timedatectl' had status 1”\n",
            "── \u001b[1mAttaching packages\u001b[22m ─────────────────────────────────────── tidyverse 1.3.1 ──\n",
            "\n",
            "\u001b[32m✔\u001b[39m \u001b[34mtibble \u001b[39m 3.1.2     \u001b[32m✔\u001b[39m \u001b[34mpurrr  \u001b[39m 0.3.4\n",
            "\u001b[32m✔\u001b[39m \u001b[34mtidyr  \u001b[39m 1.1.3     \u001b[32m✔\u001b[39m \u001b[34mforcats\u001b[39m 0.5.1\n",
            "\n",
            "── \u001b[1mConflicts\u001b[22m ────────────────────────────────────────── tidyverse_conflicts() ──\n",
            "\u001b[31m✖\u001b[39m \u001b[34mdplyr\u001b[39m::\u001b[32mfilter()\u001b[39m masks \u001b[34mstats\u001b[39m::filter()\n",
            "\u001b[31m✖\u001b[39m \u001b[34mdplyr\u001b[39m::\u001b[32mlag()\u001b[39m    masks \u001b[34mstats\u001b[39m::lag()\n",
            "\n",
            "\n",
            "Attaching package: ‘scales’\n",
            "\n",
            "\n",
            "The following object is masked from ‘package:purrr’:\n",
            "\n",
            "    discard\n",
            "\n",
            "\n",
            "The following object is masked from ‘package:readr’:\n",
            "\n",
            "    col_factor\n",
            "\n",
            "\n",
            "Installing package into ‘/usr/local/lib/R/site-library’\n",
            "(as ‘lib’ is unspecified)\n",
            "\n",
            "also installing the dependencies ‘extrafontdb’, ‘Rttf2pt1’, ‘proj4’, ‘ash’, ‘maps’, ‘extrafont’, ‘plotly’\n",
            "\n",
            "\n",
            "Registered S3 methods overwritten by 'ggalt':\n",
            "  method                  from   \n",
            "  grid.draw.absoluteGrob  ggplot2\n",
            "  grobHeight.absoluteGrob ggplot2\n",
            "  grobWidth.absoluteGrob  ggplot2\n",
            "  grobX.absoluteGrob      ggplot2\n",
            "  grobY.absoluteGrob      ggplot2\n",
            "\n",
            "Installing package into ‘/usr/local/lib/R/site-library’\n",
            "(as ‘lib’ is unspecified)\n",
            "\n"
          ],
          "name": "stderr"
        }
      ]
    },
    {
      "cell_type": "code",
      "metadata": {
        "id": "64USqzwecf16"
      },
      "source": [
        "system('apt install libudunits2-0 libudunits2-dev')"
      ],
      "execution_count": null,
      "outputs": []
    },
    {
      "cell_type": "code",
      "metadata": {
        "id": "SMOKUZTXclRM"
      },
      "source": [
        "install.packages('units')"
      ],
      "execution_count": null,
      "outputs": []
    },
    {
      "cell_type": "code",
      "metadata": {
        "id": "StZu3xancnO2"
      },
      "source": [
        "install.packages('sf')"
      ],
      "execution_count": null,
      "outputs": []
    },
    {
      "cell_type": "code",
      "metadata": {
        "id": "KfE861lEcpZH"
      },
      "source": [
        "install.packages(\"tigris\", dependencies = TRUE)"
      ],
      "execution_count": null,
      "outputs": []
    },
    {
      "cell_type": "code",
      "metadata": {
        "id": "z4q6pdxwcsB2"
      },
      "source": [
        "install.packages(\"tidycensus\", dependencies = TRUE)"
      ],
      "execution_count": null,
      "outputs": []
    },
    {
      "cell_type": "code",
      "metadata": {
        "id": "CXV8dJn0cuWw"
      },
      "source": [
        "install.packages('choroplethr', dependencies = TRUE)"
      ],
      "execution_count": null,
      "outputs": []
    },
    {
      "cell_type": "code",
      "metadata": {
        "id": "fdsFjv2Tcwu2"
      },
      "source": [
        "library(choroplethr)"
      ],
      "execution_count": null,
      "outputs": []
    },
    {
      "cell_type": "code",
      "metadata": {
        "id": "wOUPskaXc0W4"
      },
      "source": [
        "BreastCancer <- read_csv(\"Breast-Cancer-Data.csv\")"
      ],
      "execution_count": null,
      "outputs": []
    },
    {
      "cell_type": "code",
      "metadata": {
        "id": "2ItrWTRCc2nU"
      },
      "source": [
        "names(BreastCancer)<-str_replace_all(names(BreastCancer), c(\" \" = \".\" , \",\" = \"\" ))"
      ],
      "execution_count": null,
      "outputs": []
    },
    {
      "cell_type": "code",
      "metadata": {
        "id": "K7SD4bBhc4kG"
      },
      "source": [
        "ggplot(data = BreastCancer,\n",
        "       mapping = aes(x = mean.radius, y = worst.area)) +\n",
        "  geom_point()"
      ],
      "execution_count": null,
      "outputs": []
    },
    {
      "cell_type": "code",
      "metadata": {
        "id": "sIxeyRB_c606"
      },
      "source": [
        "ggplot(data = BreastCancer,\n",
        "       mapping = aes(x = mean.radius, y = worst.area)) +\n",
        "  geom_point(color = \"cornflowerblue\",\n",
        "             alpha = .7,\n",
        "             size = 3)"
      ],
      "execution_count": null,
      "outputs": []
    },
    {
      "cell_type": "code",
      "metadata": {
        "id": "zQwxtFgtc9LI"
      },
      "source": [
        "filteredBreastCancer <- filter(BreastCancer, mean.radius < 15)"
      ],
      "execution_count": null,
      "outputs": []
    },
    {
      "cell_type": "code",
      "metadata": {
        "id": "OIAhlU5Bc_OZ"
      },
      "source": [
        "ggplot(data = filteredBreastCancer,\n",
        "       mapping = aes(x = mean.radius, y = worst.area)) +\n",
        "  geom_point(color = \"cornflowerblue\",\n",
        "             alpha = .7,\n",
        "             size = 3)"
      ],
      "execution_count": null,
      "outputs": []
    },
    {
      "cell_type": "code",
      "metadata": {
        "id": "E0Din7wKdBU7"
      },
      "source": [
        "ggplot(data = filteredBreastCancer,\n",
        "       mapping = aes(x = mean.radius, y = worst.area)) +\n",
        "  geom_point(color = \"cornflowerblue\",\n",
        "             alpha = .7,\n",
        "             size = 3) +\n",
        "  geom_smooth(method = \"lm\")"
      ],
      "execution_count": null,
      "outputs": []
    },
    {
      "cell_type": "code",
      "metadata": {
        "id": "6CITqPKxdDjd"
      },
      "source": [
        "ggplot(data = filteredBreastCancer,\n",
        "       mapping = aes(x = mean.radius, \n",
        "                     y = worst.area,\n",
        "                     color = Class)) +\n",
        "  geom_point(alpha = .7,\n",
        "             size = 3) +\n",
        "  geom_smooth(method = \"lm\", \n",
        "              se = FALSE, \n",
        "              size = 1.5)"
      ],
      "execution_count": null,
      "outputs": []
    },
    {
      "cell_type": "code",
      "metadata": {
        "id": "m5oYf-IrdGkS"
      },
      "source": [
        "ggplot(data = filteredBreastCancer,\n",
        "       mapping = aes(x = mean.radius, \n",
        "                     y = worst.area,\n",
        "                     color = Class)) +\n",
        "  geom_point(alpha = .7,\n",
        "             size = 3) +\n",
        "  geom_smooth(method = \"lm\", \n",
        "              se = FALSE, \n",
        "              size = 1.5) +\n",
        "                labs(title = \"Breast Cancer Dataset\",\n",
        "       subtitle = \"Worst Area vs. Mean Radius of Cells\",\n",
        "       caption = \"https://archive.ics.uci.edu/ml/datasets/Breast+Cancer+Wisconsin+(Diagnostic)\",\n",
        "       x = \" Mean Radius\",\n",
        "       y = \"Worst Area\",\n",
        "       color = \"Class\")"
      ],
      "execution_count": null,
      "outputs": []
    },
    {
      "cell_type": "code",
      "metadata": {
        "id": "9XwIY_aCdJA9"
      },
      "source": [
        "ggplot(data = filteredBreastCancer,\n",
        "       mapping = aes(x = mean.radius, \n",
        "                     y = worst.area,\n",
        "                     color = Class)) +\n",
        "  geom_point(alpha = .7,\n",
        "             size = 3) +\n",
        "  geom_smooth(method = \"lm\", \n",
        "              se = FALSE, \n",
        "              size = 1.5) +\n",
        "                labs(title = \"Breast Cancer Dataset\",\n",
        "       subtitle = \"Worst Area vs. Mean Radius of Cells\",\n",
        "       caption = \"https://archive.ics.uci.edu/ml/datasets/Breast+Cancer+Wisconsin+(Diagnostic)\",\n",
        "       x = \" Mean Radius\",\n",
        "       y = \"Worst Area\",\n",
        "       color = \"Class\") + theme_minimal()"
      ],
      "execution_count": null,
      "outputs": []
    },
    {
      "cell_type": "code",
      "metadata": {
        "id": "mfZ92JlSdLPh"
      },
      "source": [
        "dataSC <- read_csv(\"data-sc.csv\")"
      ],
      "execution_count": null,
      "outputs": []
    },
    {
      "cell_type": "code",
      "metadata": {
        "id": "x07EVVmHdNXP"
      },
      "source": [
        "colnames(dataSC)"
      ],
      "execution_count": null,
      "outputs": []
    },
    {
      "cell_type": "code",
      "metadata": {
        "id": "Qs12sdH9dP1U"
      },
      "source": [
        "filteredDataSC <- filter(dataSC, County == 'Greenville' | County == 'Pickens' | County == 'Lexington' | County == 'Aiken' | County == 'Oconee')"
      ],
      "execution_count": null,
      "outputs": []
    },
    {
      "cell_type": "code",
      "metadata": {
        "id": "Vjahu2KAdVnv"
      },
      "source": [
        "ggplot(filteredDataSC, aes(x = County, y=Cases)) + \n",
        "  geom_bar(stat=\"identity\",fill = \"cornflowerblue\", \n",
        "           color=\"black\") +\n",
        "  labs(x = \"County\", \n",
        "       y = \"Number of COVID-19 Cases in SC\", \n",
        "       title = \"COVID-19 Dataset in South Carolina\")"
      ],
      "execution_count": null,
      "outputs": []
    },
    {
      "cell_type": "code",
      "metadata": {
        "id": "yW8vgss6dXsH"
      },
      "source": [
        "ggplot(filteredDataSC, aes(x = fct_reorder(County, -Cases), y=Cases)) + \n",
        "  geom_bar(stat=\"identity\",fill = \"cornflowerblue\", \n",
        "           color=\"black\") +\n",
        "  labs(x = \"County\", \n",
        "       y = \"Number of COVID-19 Cases in SC\", \n",
        "       title = \"COVID-19 Dataset in South Carolina\")"
      ],
      "execution_count": null,
      "outputs": []
    },
    {
      "cell_type": "code",
      "metadata": {
        "id": "U670feHYdZ5Q"
      },
      "source": [
        "mutatedFilteredDataSC <- mutate(filteredDataSC, pct = Cases / sum(Cases), pctlabel = paste0(round(pct*100), \"%\"))"
      ],
      "execution_count": null,
      "outputs": []
    },
    {
      "cell_type": "code",
      "metadata": {
        "id": "KinCjFSDdbzl"
      },
      "source": [
        "ggplot(mutatedFilteredDataSC, aes(x = fct_reorder(County, -Cases), y=Cases)) + \n",
        "  geom_bar(stat=\"identity\",fill = \"cornflowerblue\", \n",
        "           color=\"black\") +\n",
        "           geom_text(aes(label = pctlabel), \n",
        "            vjust = -0.25) +\n",
        "  labs(x = \"County\", \n",
        "       y = \"Number of COVID-19 Cases in SC\", \n",
        "       title = \"COVID-19 Dataset in South Carolina\")"
      ],
      "execution_count": null,
      "outputs": []
    },
    {
      "cell_type": "code",
      "metadata": {
        "id": "xk5O_OO0de2j"
      },
      "source": [
        "ggplot(dataSC, aes(x = fct_reorder(County, -Cases), y=Cases)) + \n",
        "  geom_bar(stat=\"identity\",fill = \"cornflowerblue\", \n",
        "           color=\"black\") +\n",
        "            coord_flip() +\n",
        "  labs(x = \"County\", \n",
        "       y = \"Number of COVID-19 Cases in SC\", \n",
        "       title = \"COVID-19 Dataset in South Carolina\")"
      ],
      "execution_count": null,
      "outputs": []
    },
    {
      "cell_type": "code",
      "metadata": {
        "id": "QSw8GLmJdhHl"
      },
      "source": [
        "data <- mutatedFilteredDataSC %>% \n",
        "  arrange(desc(County)) %>%\n",
        "  mutate(prop = Cases / sum(mutatedFilteredDataSC$Cases) *100) %>%\n",
        "  mutate(ypos = cumsum(prop)- 0.5*prop )\n",
        "\n",
        "# Basic piechart\n",
        "ggplot(data, aes(x=\"\", y=prop, fill=County)) +\n",
        "  geom_bar(stat=\"identity\", width=1, color=\"white\") +\n",
        "  coord_polar(\"y\", start=0) +\n",
        "  theme_void() + \n",
        "  theme(legend.position=\"none\") +\n",
        "  \n",
        "  geom_text(aes(y = ypos, label = paste0(County, \", \", round(prop, 1), \"%\")), color = \"white\", size=6) +\n",
        "  scale_fill_brewer(palette=\"Set1\")"
      ],
      "execution_count": null,
      "outputs": []
    },
    {
      "cell_type": "code",
      "metadata": {
        "id": "yjUcg-v4djo5"
      },
      "source": [
        "dataUS <- read_csv(\"us-covid-19.csv\")"
      ],
      "execution_count": null,
      "outputs": []
    },
    {
      "cell_type": "code",
      "metadata": {
        "id": "gKlzV2kydluC"
      },
      "source": [
        "colnames(dataUS)"
      ],
      "execution_count": null,
      "outputs": []
    },
    {
      "cell_type": "code",
      "metadata": {
        "id": "sHy--ZhVdqZ8"
      },
      "source": [
        "aggregatedDataUS <- aggregate(dataUS$cases, by = list(state=dataUS$state), FUN=sum)"
      ],
      "execution_count": null,
      "outputs": []
    },
    {
      "cell_type": "code",
      "metadata": {
        "id": "IBMwBQjId-Ch"
      },
      "source": [
        "colnames(aggregatedDataUS)"
      ],
      "execution_count": null,
      "outputs": []
    },
    {
      "cell_type": "code",
      "metadata": {
        "id": "67QKaDIseCO2"
      },
      "source": [
        "colnames(aggregatedDataUS)[1] <- \"region\"\n",
        "colnames(aggregatedDataUS)[2] <- \"value\""
      ],
      "execution_count": null,
      "outputs": []
    },
    {
      "cell_type": "code",
      "metadata": {
        "id": "jscNSQbPeK4H"
      },
      "source": [
        "aggregatedDataUS$region <- tolower(aggregatedDataUS$region)"
      ],
      "execution_count": null,
      "outputs": []
    },
    {
      "cell_type": "code",
      "metadata": {
        "id": "xtY8fdraeOoU"
      },
      "source": [
        "data(continental_us_states)"
      ],
      "execution_count": null,
      "outputs": []
    },
    {
      "cell_type": "code",
      "metadata": {
        "id": "vrT1iz4JeQu9"
      },
      "source": [
        "# create the map\n",
        "state_choropleth(aggregatedDataUS, \n",
        "                 num_colors=9,\n",
        "                 zoom = continental_us_states) +\n",
        "  scale_fill_brewer(palette=\"YlOrBr\") +\n",
        "  labs(title = \"Number of COVID-19 Cases across the US at The State Level\",\n",
        "       subtitle = \"COVID-19 Dataset in the US\",\n",
        "       caption = \"source: New York Times\",\n",
        "       fill = \"Number of COVID-19 Cases\") "
      ],
      "execution_count": null,
      "outputs": []
    },
    {
      "cell_type": "code",
      "metadata": {
        "id": "hsXPt86beTPV"
      },
      "source": [
        "data(county.regions, \n",
        "     package = \"choroplethrMaps\")\n",
        "region <- county.regions %>%\n",
        "  filter(state.name == \"south carolina\")"
      ],
      "execution_count": null,
      "outputs": []
    },
    {
      "cell_type": "code",
      "metadata": {
        "id": "JVxmpexleVD-"
      },
      "source": [
        "dataUS$county <- tolower(dataUS$county)\n",
        "\n",
        "dataUSSC <- filter(dataUS, state == \"South Carolina\")\n",
        "\n",
        "plotdata <- inner_join(dataUSSC, \n",
        "                       region, \n",
        "                       by=c(\"county\" = \"county.name\"))"
      ],
      "execution_count": null,
      "outputs": []
    },
    {
      "cell_type": "code",
      "metadata": {
        "id": "SbC5jSnzeX5K"
      },
      "source": [
        "colnames(plotdata)[5] <- \"value\"\n",
        "\n",
        "county_choropleth(plotdata, \n",
        "                  state_zoom = \"south carolina\",\n",
        "                  reference_map = FALSE,\n",
        "                  num_colors = 8) +\n",
        "  scale_fill_brewer(palette=\"YlOrRd\") +\n",
        "  labs(title = \"South Carolina COVID-19 Cases at The County Level\",\n",
        "       subtitle = \"COVID-19 Dataset\",\n",
        "       caption = \"source: New York Times\",\n",
        "       fill = \"Number of COVID-19 Cases\")"
      ],
      "execution_count": null,
      "outputs": []
    },
    {
      "cell_type": "code",
      "metadata": {
        "id": "8KZ4gqHDeaqj"
      },
      "source": [
        "ggplot(economics, aes(x = date, y = psavert)) +\n",
        "  geom_line() +\n",
        "  labs(title = \"Personal Savings Rate\",\n",
        "       x = \"Date\",\n",
        "       y = \"Personal Savings Rate\")"
      ],
      "execution_count": null,
      "outputs": []
    },
    {
      "cell_type": "code",
      "metadata": {
        "id": "d6dIikpfecOA"
      },
      "source": [
        "ggplot(economics, aes(x = date, y = psavert)) +\n",
        "  geom_line(color = \"indianred3\", \n",
        "            size=1 ) +\n",
        "  geom_smooth() +\n",
        "  scale_x_date(date_breaks = '5 years', \n",
        "               labels = date_format(\"%b-%y\")) +\n",
        "  labs(title = \"Personal Savings Rate\",\n",
        "       subtitle = \"1967 to 2015\",\n",
        "       x = \"\",\n",
        "       y = \"Personal Savings Rate\") +\n",
        "  theme_minimal()"
      ],
      "execution_count": null,
      "outputs": []
    },
    {
      "cell_type": "code",
      "metadata": {
        "id": "yeZOkmhdeeai"
      },
      "source": [
        "# load data\n",
        "data(gapminder, package = \"gapminder\")\n",
        "\n",
        "# subset data\n",
        "plotdata_long <- filter(gapminder,\n",
        "                        continent == \"Americas\" &\n",
        "                        year %in% c(1952, 2007)) %>%\n",
        "  select(country, year, lifeExp)\n",
        "\n",
        "# convert data to wide format\n",
        "plotdata_wide <- spread(plotdata_long, year, lifeExp)\n",
        "names(plotdata_wide) <- c(\"country\", \"y1952\", \"y2007\")\n",
        "\n",
        "# create dumbbell plot\n",
        "ggplot(plotdata_wide, aes(y = country,\n",
        "                          x = y1952,\n",
        "                          xend = y2007)) +  \n",
        "  geom_dumbbell()"
      ],
      "execution_count": null,
      "outputs": []
    },
    {
      "cell_type": "code",
      "metadata": {
        "id": "L_8VT4Vregnc"
      },
      "source": [
        "ggplot(plotdata_wide, \n",
        "       aes(y = reorder(country, y1952),\n",
        "           x = y1952,\n",
        "           xend = y2007)) +  \n",
        "  geom_dumbbell(size = 1.2,\n",
        "                size_x = 3, \n",
        "                size_xend = 3,\n",
        "                colour = \"grey\", \n",
        "                colour_x = \"blue\", \n",
        "                colour_xend = \"red\") +\n",
        "  theme_minimal() + \n",
        "  labs(title = \"Change in Life Expectancy\",\n",
        "       subtitle = \"1952 to 2007\",\n",
        "       x = \"Life Expectancy (years)\",\n",
        "       y = \"\")"
      ],
      "execution_count": null,
      "outputs": []
    },
    {
      "cell_type": "code",
      "metadata": {
        "id": "NORtyIK5eiqg"
      },
      "source": [
        "# select numeric variables\n",
        "df <- dplyr::select_if(BreastCancer, is.numeric)\n",
        "\n",
        "# calulate the correlations\n",
        "r <- cor(df, use=\"complete.obs\")\n",
        "round(r,2)"
      ],
      "execution_count": null,
      "outputs": []
    },
    {
      "cell_type": "code",
      "metadata": {
        "id": "wHP-0hIIekzo"
      },
      "source": [
        "ggcorrplot(r)"
      ],
      "execution_count": null,
      "outputs": []
    },
    {
      "cell_type": "code",
      "metadata": {
        "id": "o8ujqz_dem0S"
      },
      "source": [
        "ggcorrplot(r, \n",
        "           hc.order = TRUE, \n",
        "           type = \"lower\",\n",
        "           lab = FALSE)"
      ],
      "execution_count": null,
      "outputs": []
    },
    {
      "cell_type": "code",
      "metadata": {
        "id": "IrW-RKTKeoqK"
      },
      "source": [
        "BreastCancer$Class <- factor(BreastCancer$Class)\n",
        "\n",
        "BreastCancer$Class <- as.numeric(BreastCancer$Class)\n",
        "\n",
        "BreastCancer <- mutate(BreastCancer, Class = Class - 1)\n",
        "\n",
        "breastcancer_lm <- lm(texture.error ~ mean.radius + mean.texture + worst.area +\n",
        "                  worst.perimeter + mean.perimeter + concavity.error +\n",
        "                  worst.radius, \n",
        "                data = BreastCancer)"
      ],
      "execution_count": null,
      "outputs": []
    },
    {
      "cell_type": "code",
      "metadata": {
        "id": "HV0iaB-JeqOM"
      },
      "source": [
        "install.packages('visreg')\n",
        "library(visreg)"
      ],
      "execution_count": null,
      "outputs": []
    },
    {
      "cell_type": "code",
      "metadata": {
        "id": "alaTriI-er0M"
      },
      "source": [
        "visreg(breastcancer_lm, \"mean.radius\", gg = TRUE) "
      ],
      "execution_count": null,
      "outputs": []
    },
    {
      "cell_type": "code",
      "metadata": {
        "id": "kMzARArvetfd"
      },
      "source": [
        "visreg(breastcancer_lm, \"worst.area\", gg = TRUE) +\n",
        "  scale_y_continuous(label = scales::dollar) +\n",
        "  labs(y = \"Texture Error\",\n",
        "       x = \"Worst Area\")"
      ],
      "execution_count": null,
      "outputs": []
    },
    {
      "cell_type": "code",
      "metadata": {
        "id": "IzI7splqevWt"
      },
      "source": [
        "breastcancer_glm <- glm(Class ~ mean.radius + mean.texture + worst.area +\n",
        "                  worst.perimeter + mean.perimeter + concavity.error +\n",
        "                  worst.radius,\n",
        "                 family=\"binomial\", \n",
        "                 data=BreastCancer)"
      ],
      "execution_count": null,
      "outputs": []
    },
    {
      "cell_type": "code",
      "metadata": {
        "id": "xL5J3l6Few9K"
      },
      "source": [
        "visreg(breastcancer_glm, \"mean.radius\", \n",
        "       gg = TRUE, \n",
        "       scale=\"response\") +\n",
        "  labs(y = \"Prob(Class)\", \n",
        "       x = \"Mean Radius\")"
      ],
      "execution_count": null,
      "outputs": []
    },
    {
      "cell_type": "code",
      "metadata": {
        "id": "Vxl1NMRmeyub"
      },
      "source": [
        "install.packages('plotROC')\n",
        "library(plotROC)"
      ],
      "execution_count": null,
      "outputs": []
    },
    {
      "cell_type": "code",
      "metadata": {
        "id": "65b8oUHoe0yJ"
      },
      "source": [
        "df <- data.frame(Class = BreastCancer$Class, Prob = breastcancer_glm$fitted.values)\n",
        "ggplot(df, aes(d = Class, m = Prob)) + geom_roc()"
      ],
      "execution_count": null,
      "outputs": []
    },
    {
      "cell_type": "code",
      "metadata": {
        "id": "3tyQWZYfe3Jl"
      },
      "source": [
        "BreastCancer <- mutate(BreastCancer, Class = Class + 1)\n",
        "\n",
        "install.packages('scatterplot3d')\n",
        "library(scatterplot3d)\n",
        "with(BreastCancer, {\n",
        "  scatterplot3d(x = mean.radius, \n",
        "                y = mean.area, \n",
        "                z = worst.radius, \n",
        "                # filled blue circles\n",
        "                color=Class, \n",
        "                pch=19, \n",
        "                # lines to the horizontal plane\n",
        "                type = \"h\",\n",
        "                main = \"3-D Scatterplot Breast Cancer Data\",\n",
        "                xlab = \"Mean Radius\",\n",
        "                ylab = \"Mean Area\",\n",
        "                zlab = \"Worst Radius\")\n",
        "})"
      ],
      "execution_count": null,
      "outputs": []
    },
    {
      "cell_type": "code",
      "metadata": {
        "id": "dOAb1Izre5IR"
      },
      "source": [
        "install.packages('GGally')\n",
        "library(GGally)\n",
        "\n",
        "# prepare data\n",
        "df <- select(BreastCancer, mean.radius, mean.perimeter, worst.area, worst.perimeter)\n",
        " \n",
        "\n",
        "# create a scatterplot matrix\n",
        "ggpairs(df)"
      ],
      "execution_count": null,
      "outputs": []
    },
    {
      "cell_type": "code",
      "metadata": {
        "id": "PgFSbrBie7fc"
      },
      "source": [
        "# custom function for density plot\n",
        "my_density <- function(data, mapping, ...){\n",
        "  ggplot(data = data, mapping = mapping) + \n",
        "    geom_density(alpha = 0.5,\n",
        "                 fill = \"cornflowerblue\", ...)\n",
        "}\n",
        "\n",
        "# custom function for scatterplot\n",
        "my_scatter <- function(data, mapping, ...){\n",
        "  ggplot(data = data, mapping = mapping) + \n",
        "    geom_point(alpha = 0.5,\n",
        "               color = \"cornflowerblue\") + \n",
        "    geom_smooth(method=lm, \n",
        "                se=FALSE, ...)\n",
        "}\n",
        "\n",
        "\n",
        "# create scatterplot matrix\n",
        "ggpairs(df, \n",
        "        lower=list(continuous = my_scatter), \n",
        "        diag = list(continuous = my_density)) +\n",
        "  labs(title = \"Mammal size and sleep characteristics\") +\n",
        "  theme_bw()"
      ],
      "execution_count": null,
      "outputs": []
    }
  ]
}